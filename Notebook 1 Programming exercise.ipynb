{
 "cells": [
  {
   "cell_type": "markdown",
   "metadata": {},
   "source": [
    "# Programming exercises"
   ]
  },
  {
   "cell_type": "markdown",
   "metadata": {},
   "source": [
    "# Question 1: \n",
    "build a function that will get a number in base 10 and will print the number in bases 2,8,16."
   ]
  },
  {
   "cell_type": "code",
   "execution_count": 1,
   "metadata": {},
   "outputs": [
    {
     "output_type": "stream",
     "name": "stdout",
     "text": [
      "1001111\n117\n4f\n"
     ]
    }
   ],
   "source": [
    "def print_other_bases(num):\n",
    "    \"prints the decimal number given in bases 2,8,16.\"\n",
    "    print(format(num,'b'))#print the number in binary format (base 2)\n",
    "    print(format(num,'o'))#print the number in octal format (base 8)\n",
    "    print(format(num,'x'))#print the number in hex format (base 16)\n",
    "    \n",
    "print_other_bases(79)"
   ]
  },
  {
   "cell_type": "markdown",
   "metadata": {},
   "source": [
    "# Question 2:\n",
    "this question includes movies dataset, load the dataset and answer the questions below."
   ]
  },
  {
   "cell_type": "code",
   "execution_count": 2,
   "metadata": {},
   "outputs": [
    {
     "output_type": "execute_result",
     "data": {
      "text/plain": [
       "                               title  year       name   type character     n\n",
       "0                    Suuri illusioni  1985     Homo $  actor    Guests  22.0\n",
       "1     Gangsta Rap: The Glockumentary  2007  Too $hort  actor   Himself   NaN\n",
       "2                  Menace II Society  1993  Too $hort  actor   Lew-Loc  27.0\n",
       "3  Porndogs: The Adventures of Sadie  2009  Too $hort  actor     Bosco   3.0\n",
       "4                 Stop Pepper Palmer  2014  Too $hort  actor   Himself   NaN"
      ],
      "text/html": "<div>\n<style scoped>\n    .dataframe tbody tr th:only-of-type {\n        vertical-align: middle;\n    }\n\n    .dataframe tbody tr th {\n        vertical-align: top;\n    }\n\n    .dataframe thead th {\n        text-align: right;\n    }\n</style>\n<table border=\"1\" class=\"dataframe\">\n  <thead>\n    <tr style=\"text-align: right;\">\n      <th></th>\n      <th>title</th>\n      <th>year</th>\n      <th>name</th>\n      <th>type</th>\n      <th>character</th>\n      <th>n</th>\n    </tr>\n  </thead>\n  <tbody>\n    <tr>\n      <th>0</th>\n      <td>Suuri illusioni</td>\n      <td>1985</td>\n      <td>Homo $</td>\n      <td>actor</td>\n      <td>Guests</td>\n      <td>22.0</td>\n    </tr>\n    <tr>\n      <th>1</th>\n      <td>Gangsta Rap: The Glockumentary</td>\n      <td>2007</td>\n      <td>Too $hort</td>\n      <td>actor</td>\n      <td>Himself</td>\n      <td>NaN</td>\n    </tr>\n    <tr>\n      <th>2</th>\n      <td>Menace II Society</td>\n      <td>1993</td>\n      <td>Too $hort</td>\n      <td>actor</td>\n      <td>Lew-Loc</td>\n      <td>27.0</td>\n    </tr>\n    <tr>\n      <th>3</th>\n      <td>Porndogs: The Adventures of Sadie</td>\n      <td>2009</td>\n      <td>Too $hort</td>\n      <td>actor</td>\n      <td>Bosco</td>\n      <td>3.0</td>\n    </tr>\n    <tr>\n      <th>4</th>\n      <td>Stop Pepper Palmer</td>\n      <td>2014</td>\n      <td>Too $hort</td>\n      <td>actor</td>\n      <td>Himself</td>\n      <td>NaN</td>\n    </tr>\n  </tbody>\n</table>\n</div>"
     },
     "metadata": {},
     "execution_count": 2
    }
   ],
   "source": [
    "import pandas as pd\n",
    "cast=pd.read_csv('Datasets/cast.csv')\n",
    "cast.head()"
   ]
  },
  {
   "cell_type": "markdown",
   "metadata": {},
   "source": [
    "## section 1:\n",
    "How many movies have the title \"Hamlet\"?"
   ]
  },
  {
   "cell_type": "code",
   "execution_count": 3,
   "metadata": {},
   "outputs": [
    {
     "output_type": "stream",
     "name": "stdout",
     "text": [
      "movies with title \"Hamlet\": 299\n",
      "movies with title that contains \"Hamlet\": 891\n"
     ]
    }
   ],
   "source": [
    "print ('movies with title \"Hamlet\": ' + str(len(cast['Hamlet'==cast['title']])))\n",
    "#cast['Hamlet'==cast['title']] gives a sub-dataset\n",
    "print ('movies with title that contains \"Hamlet\": ' + str(len(cast[cast['title'].str.contains('Hamlet')])))\n",
    "#cast['title'].str.contains('Hamlet')   gives a mask"
   ]
  },
  {
   "source": [
    "## section 2:\n",
    "List all of the \"Treasure Island\" movies from earliest to most recent."
   ],
   "cell_type": "markdown",
   "metadata": {}
  },
  {
   "cell_type": "code",
   "execution_count": 4,
   "metadata": {},
   "outputs": [
    {
     "output_type": "execute_result",
     "data": {
      "text/plain": [
       "                   title  year                  name     type  \\\n",
       "1312766  Treasure Island  1918       Herschel Mayall    actor   \n",
       "3280557  Treasure Island  1918    Eleanor Washington  actress   \n",
       "3046750  Treasure Island  1918      Violet Radcliffe  actress   \n",
       "1167783  Treasure Island  1918           Raymond Lee    actor   \n",
       "1195421  Treasure Island  1918          Elmo Lincoln    actor   \n",
       "...                  ...   ...                   ...      ...   \n",
       "1663860  Treasure Island  1999  Victor Raider-Wexler    actor   \n",
       "1731182  Treasure Island  1999  Scot Thomas Robinson    actor   \n",
       "1813707  Treasure Island  1999        Richard Schave    actor   \n",
       "2710458  Treasure Island  1999    Stephanie Ittleson  actress   \n",
       "815338   Treasure Island  1999          Rio Hackford    actor   \n",
       "\n",
       "                character     n  \n",
       "1312766   Prologue Player   NaN  \n",
       "3280557   Prologue Player   NaN  \n",
       "3046750  Long John Silver   3.0  \n",
       "1167783          Bit Role   NaN  \n",
       "1195421   Prologue Player   NaN  \n",
       "...                   ...   ...  \n",
       "1663860          Samowitz  10.0  \n",
       "1731182             Jimmy  11.0  \n",
       "1813707               Man  21.0  \n",
       "2710458            Stella   7.0  \n",
       "815338               Hans  23.0  \n",
       "\n",
       "[187 rows x 6 columns]"
      ],
      "text/html": "<div>\n<style scoped>\n    .dataframe tbody tr th:only-of-type {\n        vertical-align: middle;\n    }\n\n    .dataframe tbody tr th {\n        vertical-align: top;\n    }\n\n    .dataframe thead th {\n        text-align: right;\n    }\n</style>\n<table border=\"1\" class=\"dataframe\">\n  <thead>\n    <tr style=\"text-align: right;\">\n      <th></th>\n      <th>title</th>\n      <th>year</th>\n      <th>name</th>\n      <th>type</th>\n      <th>character</th>\n      <th>n</th>\n    </tr>\n  </thead>\n  <tbody>\n    <tr>\n      <th>1312766</th>\n      <td>Treasure Island</td>\n      <td>1918</td>\n      <td>Herschel Mayall</td>\n      <td>actor</td>\n      <td>Prologue Player</td>\n      <td>NaN</td>\n    </tr>\n    <tr>\n      <th>3280557</th>\n      <td>Treasure Island</td>\n      <td>1918</td>\n      <td>Eleanor Washington</td>\n      <td>actress</td>\n      <td>Prologue Player</td>\n      <td>NaN</td>\n    </tr>\n    <tr>\n      <th>3046750</th>\n      <td>Treasure Island</td>\n      <td>1918</td>\n      <td>Violet Radcliffe</td>\n      <td>actress</td>\n      <td>Long John Silver</td>\n      <td>3.0</td>\n    </tr>\n    <tr>\n      <th>1167783</th>\n      <td>Treasure Island</td>\n      <td>1918</td>\n      <td>Raymond Lee</td>\n      <td>actor</td>\n      <td>Bit Role</td>\n      <td>NaN</td>\n    </tr>\n    <tr>\n      <th>1195421</th>\n      <td>Treasure Island</td>\n      <td>1918</td>\n      <td>Elmo Lincoln</td>\n      <td>actor</td>\n      <td>Prologue Player</td>\n      <td>NaN</td>\n    </tr>\n    <tr>\n      <th>...</th>\n      <td>...</td>\n      <td>...</td>\n      <td>...</td>\n      <td>...</td>\n      <td>...</td>\n      <td>...</td>\n    </tr>\n    <tr>\n      <th>1663860</th>\n      <td>Treasure Island</td>\n      <td>1999</td>\n      <td>Victor Raider-Wexler</td>\n      <td>actor</td>\n      <td>Samowitz</td>\n      <td>10.0</td>\n    </tr>\n    <tr>\n      <th>1731182</th>\n      <td>Treasure Island</td>\n      <td>1999</td>\n      <td>Scot Thomas Robinson</td>\n      <td>actor</td>\n      <td>Jimmy</td>\n      <td>11.0</td>\n    </tr>\n    <tr>\n      <th>1813707</th>\n      <td>Treasure Island</td>\n      <td>1999</td>\n      <td>Richard Schave</td>\n      <td>actor</td>\n      <td>Man</td>\n      <td>21.0</td>\n    </tr>\n    <tr>\n      <th>2710458</th>\n      <td>Treasure Island</td>\n      <td>1999</td>\n      <td>Stephanie Ittleson</td>\n      <td>actress</td>\n      <td>Stella</td>\n      <td>7.0</td>\n    </tr>\n    <tr>\n      <th>815338</th>\n      <td>Treasure Island</td>\n      <td>1999</td>\n      <td>Rio Hackford</td>\n      <td>actor</td>\n      <td>Hans</td>\n      <td>23.0</td>\n    </tr>\n  </tbody>\n</table>\n<p>187 rows × 6 columns</p>\n</div>"
     },
     "metadata": {},
     "execution_count": 4
    }
   ],
   "source": [
    "cast['Treasure Island'==cast['title']].sort_values('year')"
   ]
  },
  {
   "source": [
    "## section 3:\n",
    "How many roles were credited in the silent 1921 version of Hamlet?"
   ],
   "cell_type": "markdown",
   "metadata": {}
  },
  {
   "cell_type": "code",
   "execution_count": 5,
   "metadata": {},
   "outputs": [
    {
     "output_type": "execute_result",
     "data": {
      "text/plain": [
       "9"
      ]
     },
     "metadata": {},
     "execution_count": 5
    }
   ],
   "source": [
    "len(cast[cast['title']=='Hamlet'][cast['year']==1921])"
   ]
  },
  {
   "source": [
    "## section 4:\n",
    "Use groupby() to plot the number of \"Hamlet\" films made each decade"
   ],
   "cell_type": "markdown",
   "metadata": {}
  },
  {
   "cell_type": "code",
   "execution_count": 6,
   "metadata": {},
   "outputs": [
    {
     "output_type": "execute_result",
     "data": {
      "text/plain": [
       "<AxesSubplot:xlabel='year'>"
      ]
     },
     "metadata": {},
     "execution_count": 6
    },
    {
     "output_type": "display_data",
     "data": {
      "text/plain": "<Figure size 432x288 with 1 Axes>",
      "image/svg+xml": "<?xml version=\"1.0\" encoding=\"utf-8\" standalone=\"no\"?>\r\n<!DOCTYPE svg PUBLIC \"-//W3C//DTD SVG 1.1//EN\"\r\n  \"http://www.w3.org/Graphics/SVG/1.1/DTD/svg11.dtd\">\r\n<!-- Created with matplotlib (https://matplotlib.org/) -->\r\n<svg height=\"277.968125pt\" version=\"1.1\" viewBox=\"0 0 378.465625 277.968125\" width=\"378.465625pt\" xmlns=\"http://www.w3.org/2000/svg\" xmlns:xlink=\"http://www.w3.org/1999/xlink\">\r\n <metadata>\r\n  <rdf:RDF xmlns:cc=\"http://creativecommons.org/ns#\" xmlns:dc=\"http://purl.org/dc/elements/1.1/\" xmlns:rdf=\"http://www.w3.org/1999/02/22-rdf-syntax-ns#\">\r\n   <cc:Work>\r\n    <dc:type rdf:resource=\"http://purl.org/dc/dcmitype/StillImage\"/>\r\n    <dc:date>2021-02-15T15:41:18.275809</dc:date>\r\n    <dc:format>image/svg+xml</dc:format>\r\n    <dc:creator>\r\n     <cc:Agent>\r\n      <dc:title>Matplotlib v3.3.2, https://matplotlib.org/</dc:title>\r\n     </cc:Agent>\r\n    </dc:creator>\r\n   </cc:Work>\r\n  </rdf:RDF>\r\n </metadata>\r\n <defs>\r\n  <style type=\"text/css\">*{stroke-linecap:butt;stroke-linejoin:round;}</style>\r\n </defs>\r\n <g id=\"figure_1\">\r\n  <g id=\"patch_1\">\r\n   <path d=\"M 0 277.968125 \r\nL 378.465625 277.968125 \r\nL 378.465625 0 \r\nL 0 0 \r\nz\r\n\" style=\"fill:none;\"/>\r\n  </g>\r\n  <g id=\"axes_1\">\r\n   <g id=\"patch_2\">\r\n    <path d=\"M 36.465625 224.64 \r\nL 371.265625 224.64 \r\nL 371.265625 7.2 \r\nL 36.465625 7.2 \r\nz\r\n\" style=\"fill:#ffffff;\"/>\r\n   </g>\r\n   <g id=\"patch_3\">\r\n    <path clip-path=\"url(#pd31b75f8b9)\" d=\"M 45.765625 224.64 \r\nL 64.365625 224.64 \r\nL 64.365625 17.554286 \r\nL 45.765625 17.554286 \r\nz\r\n\" style=\"fill:#1f77b4;\"/>\r\n   </g>\r\n   <g id=\"patch_4\">\r\n    <path clip-path=\"url(#pd31b75f8b9)\" d=\"M 82.965625 224.64 \r\nL 101.565625 224.64 \r\nL 101.565625 121.097143 \r\nL 82.965625 121.097143 \r\nz\r\n\" style=\"fill:#1f77b4;\"/>\r\n   </g>\r\n   <g id=\"patch_5\">\r\n    <path clip-path=\"url(#pd31b75f8b9)\" d=\"M 120.165625 224.64 \r\nL 138.765625 224.64 \r\nL 138.765625 121.097143 \r\nL 120.165625 121.097143 \r\nz\r\n\" style=\"fill:#1f77b4;\"/>\r\n   </g>\r\n   <g id=\"patch_6\">\r\n    <path clip-path=\"url(#pd31b75f8b9)\" d=\"M 157.365625 224.64 \r\nL 175.965625 224.64 \r\nL 175.965625 121.097143 \r\nL 157.365625 121.097143 \r\nz\r\n\" style=\"fill:#1f77b4;\"/>\r\n   </g>\r\n   <g id=\"patch_7\">\r\n    <path clip-path=\"url(#pd31b75f8b9)\" d=\"M 194.565625 224.64 \r\nL 213.165625 224.64 \r\nL 213.165625 17.554286 \r\nL 194.565625 17.554286 \r\nz\r\n\" style=\"fill:#1f77b4;\"/>\r\n   </g>\r\n   <g id=\"patch_8\">\r\n    <path clip-path=\"url(#pd31b75f8b9)\" d=\"M 231.765625 224.64 \r\nL 250.365625 224.64 \r\nL 250.365625 121.097143 \r\nL 231.765625 121.097143 \r\nz\r\n\" style=\"fill:#1f77b4;\"/>\r\n   </g>\r\n   <g id=\"patch_9\">\r\n    <path clip-path=\"url(#pd31b75f8b9)\" d=\"M 268.965625 224.64 \r\nL 287.565625 224.64 \r\nL 287.565625 17.554286 \r\nL 268.965625 17.554286 \r\nz\r\n\" style=\"fill:#1f77b4;\"/>\r\n   </g>\r\n   <g id=\"patch_10\">\r\n    <path clip-path=\"url(#pd31b75f8b9)\" d=\"M 306.165625 224.64 \r\nL 324.765625 224.64 \r\nL 324.765625 17.554286 \r\nL 306.165625 17.554286 \r\nz\r\n\" style=\"fill:#1f77b4;\"/>\r\n   </g>\r\n   <g id=\"patch_11\">\r\n    <path clip-path=\"url(#pd31b75f8b9)\" d=\"M 343.365625 224.64 \r\nL 361.965625 224.64 \r\nL 361.965625 17.554286 \r\nL 343.365625 17.554286 \r\nz\r\n\" style=\"fill:#1f77b4;\"/>\r\n   </g>\r\n   <g id=\"matplotlib.axis_1\">\r\n    <g id=\"xtick_1\">\r\n     <g id=\"line2d_1\">\r\n      <defs>\r\n       <path d=\"M 0 0 \r\nL 0 3.5 \r\n\" id=\"mbd36a9174e\" style=\"stroke:#000000;stroke-width:0.8;\"/>\r\n      </defs>\r\n      <g>\r\n       <use style=\"stroke:#000000;stroke-width:0.8;\" x=\"55.065625\" xlink:href=\"#mbd36a9174e\" y=\"224.64\"/>\r\n      </g>\r\n     </g>\r\n     <g id=\"text_1\">\r\n      <!-- 1910 -->\r\n      <g transform=\"translate(57.825 257.09)rotate(-90)scale(0.1 -0.1)\">\r\n       <defs>\r\n        <path d=\"M 12.40625 8.296875 \r\nL 28.515625 8.296875 \r\nL 28.515625 63.921875 \r\nL 10.984375 60.40625 \r\nL 10.984375 69.390625 \r\nL 28.421875 72.90625 \r\nL 38.28125 72.90625 \r\nL 38.28125 8.296875 \r\nL 54.390625 8.296875 \r\nL 54.390625 0 \r\nL 12.40625 0 \r\nz\r\n\" id=\"DejaVuSans-49\"/>\r\n        <path d=\"M 10.984375 1.515625 \r\nL 10.984375 10.5 \r\nQ 14.703125 8.734375 18.5 7.8125 \r\nQ 22.3125 6.890625 25.984375 6.890625 \r\nQ 35.75 6.890625 40.890625 13.453125 \r\nQ 46.046875 20.015625 46.78125 33.40625 \r\nQ 43.953125 29.203125 39.59375 26.953125 \r\nQ 35.25 24.703125 29.984375 24.703125 \r\nQ 19.046875 24.703125 12.671875 31.3125 \r\nQ 6.296875 37.9375 6.296875 49.421875 \r\nQ 6.296875 60.640625 12.9375 67.421875 \r\nQ 19.578125 74.21875 30.609375 74.21875 \r\nQ 43.265625 74.21875 49.921875 64.515625 \r\nQ 56.59375 54.828125 56.59375 36.375 \r\nQ 56.59375 19.140625 48.40625 8.859375 \r\nQ 40.234375 -1.421875 26.421875 -1.421875 \r\nQ 22.703125 -1.421875 18.890625 -0.6875 \r\nQ 15.09375 0.046875 10.984375 1.515625 \r\nz\r\nM 30.609375 32.421875 \r\nQ 37.25 32.421875 41.125 36.953125 \r\nQ 45.015625 41.5 45.015625 49.421875 \r\nQ 45.015625 57.28125 41.125 61.84375 \r\nQ 37.25 66.40625 30.609375 66.40625 \r\nQ 23.96875 66.40625 20.09375 61.84375 \r\nQ 16.21875 57.28125 16.21875 49.421875 \r\nQ 16.21875 41.5 20.09375 36.953125 \r\nQ 23.96875 32.421875 30.609375 32.421875 \r\nz\r\n\" id=\"DejaVuSans-57\"/>\r\n        <path d=\"M 31.78125 66.40625 \r\nQ 24.171875 66.40625 20.328125 58.90625 \r\nQ 16.5 51.421875 16.5 36.375 \r\nQ 16.5 21.390625 20.328125 13.890625 \r\nQ 24.171875 6.390625 31.78125 6.390625 \r\nQ 39.453125 6.390625 43.28125 13.890625 \r\nQ 47.125 21.390625 47.125 36.375 \r\nQ 47.125 51.421875 43.28125 58.90625 \r\nQ 39.453125 66.40625 31.78125 66.40625 \r\nz\r\nM 31.78125 74.21875 \r\nQ 44.046875 74.21875 50.515625 64.515625 \r\nQ 56.984375 54.828125 56.984375 36.375 \r\nQ 56.984375 17.96875 50.515625 8.265625 \r\nQ 44.046875 -1.421875 31.78125 -1.421875 \r\nQ 19.53125 -1.421875 13.0625 8.265625 \r\nQ 6.59375 17.96875 6.59375 36.375 \r\nQ 6.59375 54.828125 13.0625 64.515625 \r\nQ 19.53125 74.21875 31.78125 74.21875 \r\nz\r\n\" id=\"DejaVuSans-48\"/>\r\n       </defs>\r\n       <use xlink:href=\"#DejaVuSans-49\"/>\r\n       <use x=\"63.623047\" xlink:href=\"#DejaVuSans-57\"/>\r\n       <use x=\"127.246094\" xlink:href=\"#DejaVuSans-49\"/>\r\n       <use x=\"190.869141\" xlink:href=\"#DejaVuSans-48\"/>\r\n      </g>\r\n     </g>\r\n    </g>\r\n    <g id=\"xtick_2\">\r\n     <g id=\"line2d_2\">\r\n      <g>\r\n       <use style=\"stroke:#000000;stroke-width:0.8;\" x=\"92.265625\" xlink:href=\"#mbd36a9174e\" y=\"224.64\"/>\r\n      </g>\r\n     </g>\r\n     <g id=\"text_2\">\r\n      <!-- 1920 -->\r\n      <g transform=\"translate(95.025 257.09)rotate(-90)scale(0.1 -0.1)\">\r\n       <defs>\r\n        <path d=\"M 19.1875 8.296875 \r\nL 53.609375 8.296875 \r\nL 53.609375 0 \r\nL 7.328125 0 \r\nL 7.328125 8.296875 \r\nQ 12.9375 14.109375 22.625 23.890625 \r\nQ 32.328125 33.6875 34.8125 36.53125 \r\nQ 39.546875 41.84375 41.421875 45.53125 \r\nQ 43.3125 49.21875 43.3125 52.78125 \r\nQ 43.3125 58.59375 39.234375 62.25 \r\nQ 35.15625 65.921875 28.609375 65.921875 \r\nQ 23.96875 65.921875 18.8125 64.3125 \r\nQ 13.671875 62.703125 7.8125 59.421875 \r\nL 7.8125 69.390625 \r\nQ 13.765625 71.78125 18.9375 73 \r\nQ 24.125 74.21875 28.421875 74.21875 \r\nQ 39.75 74.21875 46.484375 68.546875 \r\nQ 53.21875 62.890625 53.21875 53.421875 \r\nQ 53.21875 48.921875 51.53125 44.890625 \r\nQ 49.859375 40.875 45.40625 35.40625 \r\nQ 44.1875 33.984375 37.640625 27.21875 \r\nQ 31.109375 20.453125 19.1875 8.296875 \r\nz\r\n\" id=\"DejaVuSans-50\"/>\r\n       </defs>\r\n       <use xlink:href=\"#DejaVuSans-49\"/>\r\n       <use x=\"63.623047\" xlink:href=\"#DejaVuSans-57\"/>\r\n       <use x=\"127.246094\" xlink:href=\"#DejaVuSans-50\"/>\r\n       <use x=\"190.869141\" xlink:href=\"#DejaVuSans-48\"/>\r\n      </g>\r\n     </g>\r\n    </g>\r\n    <g id=\"xtick_3\">\r\n     <g id=\"line2d_3\">\r\n      <g>\r\n       <use style=\"stroke:#000000;stroke-width:0.8;\" x=\"129.465625\" xlink:href=\"#mbd36a9174e\" y=\"224.64\"/>\r\n      </g>\r\n     </g>\r\n     <g id=\"text_3\">\r\n      <!-- 1940 -->\r\n      <g transform=\"translate(132.225 257.09)rotate(-90)scale(0.1 -0.1)\">\r\n       <defs>\r\n        <path d=\"M 37.796875 64.3125 \r\nL 12.890625 25.390625 \r\nL 37.796875 25.390625 \r\nz\r\nM 35.203125 72.90625 \r\nL 47.609375 72.90625 \r\nL 47.609375 25.390625 \r\nL 58.015625 25.390625 \r\nL 58.015625 17.1875 \r\nL 47.609375 17.1875 \r\nL 47.609375 0 \r\nL 37.796875 0 \r\nL 37.796875 17.1875 \r\nL 4.890625 17.1875 \r\nL 4.890625 26.703125 \r\nz\r\n\" id=\"DejaVuSans-52\"/>\r\n       </defs>\r\n       <use xlink:href=\"#DejaVuSans-49\"/>\r\n       <use x=\"63.623047\" xlink:href=\"#DejaVuSans-57\"/>\r\n       <use x=\"127.246094\" xlink:href=\"#DejaVuSans-52\"/>\r\n       <use x=\"190.869141\" xlink:href=\"#DejaVuSans-48\"/>\r\n      </g>\r\n     </g>\r\n    </g>\r\n    <g id=\"xtick_4\">\r\n     <g id=\"line2d_4\">\r\n      <g>\r\n       <use style=\"stroke:#000000;stroke-width:0.8;\" x=\"166.665625\" xlink:href=\"#mbd36a9174e\" y=\"224.64\"/>\r\n      </g>\r\n     </g>\r\n     <g id=\"text_4\">\r\n      <!-- 1950 -->\r\n      <g transform=\"translate(169.425 257.09)rotate(-90)scale(0.1 -0.1)\">\r\n       <defs>\r\n        <path d=\"M 10.796875 72.90625 \r\nL 49.515625 72.90625 \r\nL 49.515625 64.59375 \r\nL 19.828125 64.59375 \r\nL 19.828125 46.734375 \r\nQ 21.96875 47.46875 24.109375 47.828125 \r\nQ 26.265625 48.1875 28.421875 48.1875 \r\nQ 40.625 48.1875 47.75 41.5 \r\nQ 54.890625 34.8125 54.890625 23.390625 \r\nQ 54.890625 11.625 47.5625 5.09375 \r\nQ 40.234375 -1.421875 26.90625 -1.421875 \r\nQ 22.3125 -1.421875 17.546875 -0.640625 \r\nQ 12.796875 0.140625 7.71875 1.703125 \r\nL 7.71875 11.625 \r\nQ 12.109375 9.234375 16.796875 8.0625 \r\nQ 21.484375 6.890625 26.703125 6.890625 \r\nQ 35.15625 6.890625 40.078125 11.328125 \r\nQ 45.015625 15.765625 45.015625 23.390625 \r\nQ 45.015625 31 40.078125 35.4375 \r\nQ 35.15625 39.890625 26.703125 39.890625 \r\nQ 22.75 39.890625 18.8125 39.015625 \r\nQ 14.890625 38.140625 10.796875 36.28125 \r\nz\r\n\" id=\"DejaVuSans-53\"/>\r\n       </defs>\r\n       <use xlink:href=\"#DejaVuSans-49\"/>\r\n       <use x=\"63.623047\" xlink:href=\"#DejaVuSans-57\"/>\r\n       <use x=\"127.246094\" xlink:href=\"#DejaVuSans-53\"/>\r\n       <use x=\"190.869141\" xlink:href=\"#DejaVuSans-48\"/>\r\n      </g>\r\n     </g>\r\n    </g>\r\n    <g id=\"xtick_5\">\r\n     <g id=\"line2d_5\">\r\n      <g>\r\n       <use style=\"stroke:#000000;stroke-width:0.8;\" x=\"203.865625\" xlink:href=\"#mbd36a9174e\" y=\"224.64\"/>\r\n      </g>\r\n     </g>\r\n     <g id=\"text_5\">\r\n      <!-- 1960 -->\r\n      <g transform=\"translate(206.625 257.09)rotate(-90)scale(0.1 -0.1)\">\r\n       <defs>\r\n        <path d=\"M 33.015625 40.375 \r\nQ 26.375 40.375 22.484375 35.828125 \r\nQ 18.609375 31.296875 18.609375 23.390625 \r\nQ 18.609375 15.53125 22.484375 10.953125 \r\nQ 26.375 6.390625 33.015625 6.390625 \r\nQ 39.65625 6.390625 43.53125 10.953125 \r\nQ 47.40625 15.53125 47.40625 23.390625 \r\nQ 47.40625 31.296875 43.53125 35.828125 \r\nQ 39.65625 40.375 33.015625 40.375 \r\nz\r\nM 52.59375 71.296875 \r\nL 52.59375 62.3125 \r\nQ 48.875 64.0625 45.09375 64.984375 \r\nQ 41.3125 65.921875 37.59375 65.921875 \r\nQ 27.828125 65.921875 22.671875 59.328125 \r\nQ 17.53125 52.734375 16.796875 39.40625 \r\nQ 19.671875 43.65625 24.015625 45.921875 \r\nQ 28.375 48.1875 33.59375 48.1875 \r\nQ 44.578125 48.1875 50.953125 41.515625 \r\nQ 57.328125 34.859375 57.328125 23.390625 \r\nQ 57.328125 12.15625 50.6875 5.359375 \r\nQ 44.046875 -1.421875 33.015625 -1.421875 \r\nQ 20.359375 -1.421875 13.671875 8.265625 \r\nQ 6.984375 17.96875 6.984375 36.375 \r\nQ 6.984375 53.65625 15.1875 63.9375 \r\nQ 23.390625 74.21875 37.203125 74.21875 \r\nQ 40.921875 74.21875 44.703125 73.484375 \r\nQ 48.484375 72.75 52.59375 71.296875 \r\nz\r\n\" id=\"DejaVuSans-54\"/>\r\n       </defs>\r\n       <use xlink:href=\"#DejaVuSans-49\"/>\r\n       <use x=\"63.623047\" xlink:href=\"#DejaVuSans-57\"/>\r\n       <use x=\"127.246094\" xlink:href=\"#DejaVuSans-54\"/>\r\n       <use x=\"190.869141\" xlink:href=\"#DejaVuSans-48\"/>\r\n      </g>\r\n     </g>\r\n    </g>\r\n    <g id=\"xtick_6\">\r\n     <g id=\"line2d_6\">\r\n      <g>\r\n       <use style=\"stroke:#000000;stroke-width:0.8;\" x=\"241.065625\" xlink:href=\"#mbd36a9174e\" y=\"224.64\"/>\r\n      </g>\r\n     </g>\r\n     <g id=\"text_6\">\r\n      <!-- 1970 -->\r\n      <g transform=\"translate(243.825 257.09)rotate(-90)scale(0.1 -0.1)\">\r\n       <defs>\r\n        <path d=\"M 8.203125 72.90625 \r\nL 55.078125 72.90625 \r\nL 55.078125 68.703125 \r\nL 28.609375 0 \r\nL 18.3125 0 \r\nL 43.21875 64.59375 \r\nL 8.203125 64.59375 \r\nz\r\n\" id=\"DejaVuSans-55\"/>\r\n       </defs>\r\n       <use xlink:href=\"#DejaVuSans-49\"/>\r\n       <use x=\"63.623047\" xlink:href=\"#DejaVuSans-57\"/>\r\n       <use x=\"127.246094\" xlink:href=\"#DejaVuSans-55\"/>\r\n       <use x=\"190.869141\" xlink:href=\"#DejaVuSans-48\"/>\r\n      </g>\r\n     </g>\r\n    </g>\r\n    <g id=\"xtick_7\">\r\n     <g id=\"line2d_7\">\r\n      <g>\r\n       <use style=\"stroke:#000000;stroke-width:0.8;\" x=\"278.265625\" xlink:href=\"#mbd36a9174e\" y=\"224.64\"/>\r\n      </g>\r\n     </g>\r\n     <g id=\"text_7\">\r\n      <!-- 1990 -->\r\n      <g transform=\"translate(281.025 257.09)rotate(-90)scale(0.1 -0.1)\">\r\n       <use xlink:href=\"#DejaVuSans-49\"/>\r\n       <use x=\"63.623047\" xlink:href=\"#DejaVuSans-57\"/>\r\n       <use x=\"127.246094\" xlink:href=\"#DejaVuSans-57\"/>\r\n       <use x=\"190.869141\" xlink:href=\"#DejaVuSans-48\"/>\r\n      </g>\r\n     </g>\r\n    </g>\r\n    <g id=\"xtick_8\">\r\n     <g id=\"line2d_8\">\r\n      <g>\r\n       <use style=\"stroke:#000000;stroke-width:0.8;\" x=\"315.465625\" xlink:href=\"#mbd36a9174e\" y=\"224.64\"/>\r\n      </g>\r\n     </g>\r\n     <g id=\"text_8\">\r\n      <!-- 2000 -->\r\n      <g transform=\"translate(318.225 257.09)rotate(-90)scale(0.1 -0.1)\">\r\n       <use xlink:href=\"#DejaVuSans-50\"/>\r\n       <use x=\"63.623047\" xlink:href=\"#DejaVuSans-48\"/>\r\n       <use x=\"127.246094\" xlink:href=\"#DejaVuSans-48\"/>\r\n       <use x=\"190.869141\" xlink:href=\"#DejaVuSans-48\"/>\r\n      </g>\r\n     </g>\r\n    </g>\r\n    <g id=\"xtick_9\">\r\n     <g id=\"line2d_9\">\r\n      <g>\r\n       <use style=\"stroke:#000000;stroke-width:0.8;\" x=\"352.665625\" xlink:href=\"#mbd36a9174e\" y=\"224.64\"/>\r\n      </g>\r\n     </g>\r\n     <g id=\"text_9\">\r\n      <!-- 2010 -->\r\n      <g transform=\"translate(355.425 257.09)rotate(-90)scale(0.1 -0.1)\">\r\n       <use xlink:href=\"#DejaVuSans-50\"/>\r\n       <use x=\"63.623047\" xlink:href=\"#DejaVuSans-48\"/>\r\n       <use x=\"127.246094\" xlink:href=\"#DejaVuSans-49\"/>\r\n       <use x=\"190.869141\" xlink:href=\"#DejaVuSans-48\"/>\r\n      </g>\r\n     </g>\r\n    </g>\r\n    <g id=\"text_10\">\r\n     <!-- year -->\r\n     <g transform=\"translate(192.710156 268.688437)scale(0.1 -0.1)\">\r\n      <defs>\r\n       <path d=\"M 32.171875 -5.078125 \r\nQ 28.375 -14.84375 24.75 -17.8125 \r\nQ 21.140625 -20.796875 15.09375 -20.796875 \r\nL 7.90625 -20.796875 \r\nL 7.90625 -13.28125 \r\nL 13.1875 -13.28125 \r\nQ 16.890625 -13.28125 18.9375 -11.515625 \r\nQ 21 -9.765625 23.484375 -3.21875 \r\nL 25.09375 0.875 \r\nL 2.984375 54.6875 \r\nL 12.5 54.6875 \r\nL 29.59375 11.921875 \r\nL 46.6875 54.6875 \r\nL 56.203125 54.6875 \r\nz\r\n\" id=\"DejaVuSans-121\"/>\r\n       <path d=\"M 56.203125 29.59375 \r\nL 56.203125 25.203125 \r\nL 14.890625 25.203125 \r\nQ 15.484375 15.921875 20.484375 11.0625 \r\nQ 25.484375 6.203125 34.421875 6.203125 \r\nQ 39.59375 6.203125 44.453125 7.46875 \r\nQ 49.3125 8.734375 54.109375 11.28125 \r\nL 54.109375 2.78125 \r\nQ 49.265625 0.734375 44.1875 -0.34375 \r\nQ 39.109375 -1.421875 33.890625 -1.421875 \r\nQ 20.796875 -1.421875 13.15625 6.1875 \r\nQ 5.515625 13.8125 5.515625 26.8125 \r\nQ 5.515625 40.234375 12.765625 48.109375 \r\nQ 20.015625 56 32.328125 56 \r\nQ 43.359375 56 49.78125 48.890625 \r\nQ 56.203125 41.796875 56.203125 29.59375 \r\nz\r\nM 47.21875 32.234375 \r\nQ 47.125 39.59375 43.09375 43.984375 \r\nQ 39.0625 48.390625 32.421875 48.390625 \r\nQ 24.90625 48.390625 20.390625 44.140625 \r\nQ 15.875 39.890625 15.1875 32.171875 \r\nz\r\n\" id=\"DejaVuSans-101\"/>\r\n       <path d=\"M 34.28125 27.484375 \r\nQ 23.390625 27.484375 19.1875 25 \r\nQ 14.984375 22.515625 14.984375 16.5 \r\nQ 14.984375 11.71875 18.140625 8.90625 \r\nQ 21.296875 6.109375 26.703125 6.109375 \r\nQ 34.1875 6.109375 38.703125 11.40625 \r\nQ 43.21875 16.703125 43.21875 25.484375 \r\nL 43.21875 27.484375 \r\nz\r\nM 52.203125 31.203125 \r\nL 52.203125 0 \r\nL 43.21875 0 \r\nL 43.21875 8.296875 \r\nQ 40.140625 3.328125 35.546875 0.953125 \r\nQ 30.953125 -1.421875 24.3125 -1.421875 \r\nQ 15.921875 -1.421875 10.953125 3.296875 \r\nQ 6 8.015625 6 15.921875 \r\nQ 6 25.140625 12.171875 29.828125 \r\nQ 18.359375 34.515625 30.609375 34.515625 \r\nL 43.21875 34.515625 \r\nL 43.21875 35.40625 \r\nQ 43.21875 41.609375 39.140625 45 \r\nQ 35.0625 48.390625 27.6875 48.390625 \r\nQ 23 48.390625 18.546875 47.265625 \r\nQ 14.109375 46.140625 10.015625 43.890625 \r\nL 10.015625 52.203125 \r\nQ 14.9375 54.109375 19.578125 55.046875 \r\nQ 24.21875 56 28.609375 56 \r\nQ 40.484375 56 46.34375 49.84375 \r\nQ 52.203125 43.703125 52.203125 31.203125 \r\nz\r\n\" id=\"DejaVuSans-97\"/>\r\n       <path d=\"M 41.109375 46.296875 \r\nQ 39.59375 47.171875 37.8125 47.578125 \r\nQ 36.03125 48 33.890625 48 \r\nQ 26.265625 48 22.1875 43.046875 \r\nQ 18.109375 38.09375 18.109375 28.8125 \r\nL 18.109375 0 \r\nL 9.078125 0 \r\nL 9.078125 54.6875 \r\nL 18.109375 54.6875 \r\nL 18.109375 46.1875 \r\nQ 20.953125 51.171875 25.484375 53.578125 \r\nQ 30.03125 56 36.53125 56 \r\nQ 37.453125 56 38.578125 55.875 \r\nQ 39.703125 55.765625 41.0625 55.515625 \r\nz\r\n\" id=\"DejaVuSans-114\"/>\r\n      </defs>\r\n      <use xlink:href=\"#DejaVuSans-121\"/>\r\n      <use x=\"59.179688\" xlink:href=\"#DejaVuSans-101\"/>\r\n      <use x=\"120.703125\" xlink:href=\"#DejaVuSans-97\"/>\r\n      <use x=\"181.982422\" xlink:href=\"#DejaVuSans-114\"/>\r\n     </g>\r\n    </g>\r\n   </g>\r\n   <g id=\"matplotlib.axis_2\">\r\n    <g id=\"ytick_1\">\r\n     <g id=\"line2d_10\">\r\n      <defs>\r\n       <path d=\"M 0 0 \r\nL -3.5 0 \r\n\" id=\"m49019c6e6d\" style=\"stroke:#000000;stroke-width:0.8;\"/>\r\n      </defs>\r\n      <g>\r\n       <use style=\"stroke:#000000;stroke-width:0.8;\" x=\"36.465625\" xlink:href=\"#m49019c6e6d\" y=\"224.64\"/>\r\n      </g>\r\n     </g>\r\n     <g id=\"text_11\">\r\n      <!-- 0.00 -->\r\n      <g transform=\"translate(7.2 228.439219)scale(0.1 -0.1)\">\r\n       <defs>\r\n        <path d=\"M 10.6875 12.40625 \r\nL 21 12.40625 \r\nL 21 0 \r\nL 10.6875 0 \r\nz\r\n\" id=\"DejaVuSans-46\"/>\r\n       </defs>\r\n       <use xlink:href=\"#DejaVuSans-48\"/>\r\n       <use x=\"63.623047\" xlink:href=\"#DejaVuSans-46\"/>\r\n       <use x=\"95.410156\" xlink:href=\"#DejaVuSans-48\"/>\r\n       <use x=\"159.033203\" xlink:href=\"#DejaVuSans-48\"/>\r\n      </g>\r\n     </g>\r\n    </g>\r\n    <g id=\"ytick_2\">\r\n     <g id=\"line2d_11\">\r\n      <g>\r\n       <use style=\"stroke:#000000;stroke-width:0.8;\" x=\"36.465625\" xlink:href=\"#m49019c6e6d\" y=\"198.754286\"/>\r\n      </g>\r\n     </g>\r\n     <g id=\"text_12\">\r\n      <!-- 0.25 -->\r\n      <g transform=\"translate(7.2 202.553504)scale(0.1 -0.1)\">\r\n       <use xlink:href=\"#DejaVuSans-48\"/>\r\n       <use x=\"63.623047\" xlink:href=\"#DejaVuSans-46\"/>\r\n       <use x=\"95.410156\" xlink:href=\"#DejaVuSans-50\"/>\r\n       <use x=\"159.033203\" xlink:href=\"#DejaVuSans-53\"/>\r\n      </g>\r\n     </g>\r\n    </g>\r\n    <g id=\"ytick_3\">\r\n     <g id=\"line2d_12\">\r\n      <g>\r\n       <use style=\"stroke:#000000;stroke-width:0.8;\" x=\"36.465625\" xlink:href=\"#m49019c6e6d\" y=\"172.868571\"/>\r\n      </g>\r\n     </g>\r\n     <g id=\"text_13\">\r\n      <!-- 0.50 -->\r\n      <g transform=\"translate(7.2 176.66779)scale(0.1 -0.1)\">\r\n       <use xlink:href=\"#DejaVuSans-48\"/>\r\n       <use x=\"63.623047\" xlink:href=\"#DejaVuSans-46\"/>\r\n       <use x=\"95.410156\" xlink:href=\"#DejaVuSans-53\"/>\r\n       <use x=\"159.033203\" xlink:href=\"#DejaVuSans-48\"/>\r\n      </g>\r\n     </g>\r\n    </g>\r\n    <g id=\"ytick_4\">\r\n     <g id=\"line2d_13\">\r\n      <g>\r\n       <use style=\"stroke:#000000;stroke-width:0.8;\" x=\"36.465625\" xlink:href=\"#m49019c6e6d\" y=\"146.982857\"/>\r\n      </g>\r\n     </g>\r\n     <g id=\"text_14\">\r\n      <!-- 0.75 -->\r\n      <g transform=\"translate(7.2 150.782076)scale(0.1 -0.1)\">\r\n       <use xlink:href=\"#DejaVuSans-48\"/>\r\n       <use x=\"63.623047\" xlink:href=\"#DejaVuSans-46\"/>\r\n       <use x=\"95.410156\" xlink:href=\"#DejaVuSans-55\"/>\r\n       <use x=\"159.033203\" xlink:href=\"#DejaVuSans-53\"/>\r\n      </g>\r\n     </g>\r\n    </g>\r\n    <g id=\"ytick_5\">\r\n     <g id=\"line2d_14\">\r\n      <g>\r\n       <use style=\"stroke:#000000;stroke-width:0.8;\" x=\"36.465625\" xlink:href=\"#m49019c6e6d\" y=\"121.097143\"/>\r\n      </g>\r\n     </g>\r\n     <g id=\"text_15\">\r\n      <!-- 1.00 -->\r\n      <g transform=\"translate(7.2 124.896362)scale(0.1 -0.1)\">\r\n       <use xlink:href=\"#DejaVuSans-49\"/>\r\n       <use x=\"63.623047\" xlink:href=\"#DejaVuSans-46\"/>\r\n       <use x=\"95.410156\" xlink:href=\"#DejaVuSans-48\"/>\r\n       <use x=\"159.033203\" xlink:href=\"#DejaVuSans-48\"/>\r\n      </g>\r\n     </g>\r\n    </g>\r\n    <g id=\"ytick_6\">\r\n     <g id=\"line2d_15\">\r\n      <g>\r\n       <use style=\"stroke:#000000;stroke-width:0.8;\" x=\"36.465625\" xlink:href=\"#m49019c6e6d\" y=\"95.211429\"/>\r\n      </g>\r\n     </g>\r\n     <g id=\"text_16\">\r\n      <!-- 1.25 -->\r\n      <g transform=\"translate(7.2 99.010647)scale(0.1 -0.1)\">\r\n       <use xlink:href=\"#DejaVuSans-49\"/>\r\n       <use x=\"63.623047\" xlink:href=\"#DejaVuSans-46\"/>\r\n       <use x=\"95.410156\" xlink:href=\"#DejaVuSans-50\"/>\r\n       <use x=\"159.033203\" xlink:href=\"#DejaVuSans-53\"/>\r\n      </g>\r\n     </g>\r\n    </g>\r\n    <g id=\"ytick_7\">\r\n     <g id=\"line2d_16\">\r\n      <g>\r\n       <use style=\"stroke:#000000;stroke-width:0.8;\" x=\"36.465625\" xlink:href=\"#m49019c6e6d\" y=\"69.325714\"/>\r\n      </g>\r\n     </g>\r\n     <g id=\"text_17\">\r\n      <!-- 1.50 -->\r\n      <g transform=\"translate(7.2 73.124933)scale(0.1 -0.1)\">\r\n       <use xlink:href=\"#DejaVuSans-49\"/>\r\n       <use x=\"63.623047\" xlink:href=\"#DejaVuSans-46\"/>\r\n       <use x=\"95.410156\" xlink:href=\"#DejaVuSans-53\"/>\r\n       <use x=\"159.033203\" xlink:href=\"#DejaVuSans-48\"/>\r\n      </g>\r\n     </g>\r\n    </g>\r\n    <g id=\"ytick_8\">\r\n     <g id=\"line2d_17\">\r\n      <g>\r\n       <use style=\"stroke:#000000;stroke-width:0.8;\" x=\"36.465625\" xlink:href=\"#m49019c6e6d\" y=\"43.44\"/>\r\n      </g>\r\n     </g>\r\n     <g id=\"text_18\">\r\n      <!-- 1.75 -->\r\n      <g transform=\"translate(7.2 47.239219)scale(0.1 -0.1)\">\r\n       <use xlink:href=\"#DejaVuSans-49\"/>\r\n       <use x=\"63.623047\" xlink:href=\"#DejaVuSans-46\"/>\r\n       <use x=\"95.410156\" xlink:href=\"#DejaVuSans-55\"/>\r\n       <use x=\"159.033203\" xlink:href=\"#DejaVuSans-53\"/>\r\n      </g>\r\n     </g>\r\n    </g>\r\n    <g id=\"ytick_9\">\r\n     <g id=\"line2d_18\">\r\n      <g>\r\n       <use style=\"stroke:#000000;stroke-width:0.8;\" x=\"36.465625\" xlink:href=\"#m49019c6e6d\" y=\"17.554286\"/>\r\n      </g>\r\n     </g>\r\n     <g id=\"text_19\">\r\n      <!-- 2.00 -->\r\n      <g transform=\"translate(7.2 21.353504)scale(0.1 -0.1)\">\r\n       <use xlink:href=\"#DejaVuSans-50\"/>\r\n       <use x=\"63.623047\" xlink:href=\"#DejaVuSans-46\"/>\r\n       <use x=\"95.410156\" xlink:href=\"#DejaVuSans-48\"/>\r\n       <use x=\"159.033203\" xlink:href=\"#DejaVuSans-48\"/>\r\n      </g>\r\n     </g>\r\n    </g>\r\n   </g>\r\n   <g id=\"patch_12\">\r\n    <path d=\"M 36.465625 224.64 \r\nL 36.465625 7.2 \r\n\" style=\"fill:none;stroke:#000000;stroke-linecap:square;stroke-linejoin:miter;stroke-width:0.8;\"/>\r\n   </g>\r\n   <g id=\"patch_13\">\r\n    <path d=\"M 371.265625 224.64 \r\nL 371.265625 7.2 \r\n\" style=\"fill:none;stroke:#000000;stroke-linecap:square;stroke-linejoin:miter;stroke-width:0.8;\"/>\r\n   </g>\r\n   <g id=\"patch_14\">\r\n    <path d=\"M 36.465625 224.64 \r\nL 371.265625 224.64 \r\n\" style=\"fill:none;stroke:#000000;stroke-linecap:square;stroke-linejoin:miter;stroke-width:0.8;\"/>\r\n   </g>\r\n   <g id=\"patch_15\">\r\n    <path d=\"M 36.465625 7.2 \r\nL 371.265625 7.2 \r\n\" style=\"fill:none;stroke:#000000;stroke-linecap:square;stroke-linejoin:miter;stroke-width:0.8;\"/>\r\n   </g>\r\n  </g>\r\n </g>\r\n <defs>\r\n  <clipPath id=\"pd31b75f8b9\">\r\n   <rect height=\"217.44\" width=\"334.8\" x=\"36.465625\" y=\"7.2\"/>\r\n  </clipPath>\r\n </defs>\r\n</svg>\r\n",
      "image/png": "[encoded data removed]"
     },
     "metadata": {
      "needs_background": "light"
     }
    }
   ],
   "source": [
    "import matplotlib.pyplot as plt\n",
    "#I used only movies called \"Hamlet\"\n",
    "hamlet_films=cast['Hamlet'==cast['title']]\n",
    "hamlet_films['year']=hamlet_films['year']//10*10 #divide to int by 10\n",
    "# to avoid multiple appearances of the same movie I counted the number of lead role given in Hamlet movies (probably 1 per movie)\n",
    "hamlet_films[hamlet_films['n']==1].groupby('year').size().plot(kind='bar')"
   ]
  },
  {
   "source": [
    "## section 5:\n",
    "How many leading (n=1) roles were available to actors, and how many to\n",
    "actresses, in each year of the 1950s?"
   ],
   "cell_type": "markdown",
   "metadata": {}
  },
  {
   "cell_type": "code",
   "execution_count": 7,
   "metadata": {},
   "outputs": [
    {
     "output_type": "execute_result",
     "data": {
      "text/plain": [
       "actor      6388\n",
       "actress    2813\n",
       "Name: type, dtype: int64"
      ]
     },
     "metadata": {},
     "execution_count": 7
    }
   ],
   "source": [
    "#n=1, year under 1960, year above 1950.\n",
    "cast[cast['n']==1][cast['year']<1960][cast['year']>=1950]['type'].value_counts()"
   ]
  },
  {
   "source": [
    "## section 6:\n",
    "List the 10 actors/actresses that have the most leading roles (n=1) since the 1990's."
   ],
   "cell_type": "markdown",
   "metadata": {}
  },
  {
   "cell_type": "code",
   "execution_count": 8,
   "metadata": {},
   "outputs": [
    {
     "output_type": "execute_result",
     "data": {
      "text/plain": [
       "Charles Starrett     200\n",
       "Buck Jones           130\n",
       "Johnny Mack Brown    124\n",
       "John Wayne           117\n",
       "Rajesh Khanna        115\n",
       "Bob Steele           110\n",
       "William Boyd          95\n",
       "Hoot Gibson           93\n",
       "Tom Mix               93\n",
       "Jack Holt             93\n",
       "Name: name, dtype: int64"
      ]
     },
     "metadata": {},
     "execution_count": 8
    }
   ],
   "source": [
    "cast[cast['n']==1][cast['year']<=1990]['name'].value_counts()[:10]"
   ]
  },
  {
   "source": [
    "## section 7:\n",
    "List, in order by year, each of the films in which Frank Oz has played more than\n",
    "1 role"
   ],
   "cell_type": "markdown",
   "metadata": {}
  },
  {
   "cell_type": "code",
   "execution_count": 13,
   "metadata": {},
   "outputs": [
    {
     "output_type": "execute_result",
     "data": {
      "text/plain": [
       "                                            title  year      name   type  \\\n",
       "1538820                          The Muppet Movie  1979  Frank Oz  actor   \n",
       "1538821                          The Muppet Movie  1979  Frank Oz  actor   \n",
       "1538822                          The Muppet Movie  1979  Frank Oz  actor   \n",
       "1538823                          The Muppet Movie  1979  Frank Oz  actor   \n",
       "1538824                          The Muppet Movie  1979  Frank Oz  actor   \n",
       "1538825                          The Muppet Movie  1979  Frank Oz  actor   \n",
       "1538826                          The Muppet Movie  1979  Frank Oz  actor   \n",
       "1538827                          The Muppet Movie  1979  Frank Oz  actor   \n",
       "1538812                    The Great Muppet Caper  1981  Frank Oz  actor   \n",
       "1538811                    The Great Muppet Caper  1981  Frank Oz  actor   \n",
       "1538810                    The Great Muppet Caper  1981  Frank Oz  actor   \n",
       "1538809                    The Great Muppet Caper  1981  Frank Oz  actor   \n",
       "1538808                    The Great Muppet Caper  1981  Frank Oz  actor   \n",
       "1538776            An American Werewolf in London  1981  Frank Oz  actor   \n",
       "1538807                    The Great Muppet Caper  1981  Frank Oz  actor   \n",
       "1538777            An American Werewolf in London  1981  Frank Oz  actor   \n",
       "1538806                          The Dark Crystal  1982  Frank Oz  actor   \n",
       "1538805                          The Dark Crystal  1982  Frank Oz  actor   \n",
       "1538834                The Muppets Take Manhattan  1984  Frank Oz  actor   \n",
       "1538833                The Muppets Take Manhattan  1984  Frank Oz  actor   \n",
       "1538832                The Muppets Take Manhattan  1984  Frank Oz  actor   \n",
       "1538831                The Muppets Take Manhattan  1984  Frank Oz  actor   \n",
       "1538830                The Muppets Take Manhattan  1984  Frank Oz  actor   \n",
       "1538829                The Muppets Take Manhattan  1984  Frank Oz  actor   \n",
       "1538828                The Muppets Take Manhattan  1984  Frank Oz  actor   \n",
       "1538793  Sesame Street Presents: Follow that Bird  1985  Frank Oz  actor   \n",
       "1538792  Sesame Street Presents: Follow that Bird  1985  Frank Oz  actor   \n",
       "1538791  Sesame Street Presents: Follow that Bird  1985  Frank Oz  actor   \n",
       "1538813                The Muppet Christmas Carol  1992  Frank Oz  actor   \n",
       "1538819                The Muppet Christmas Carol  1992  Frank Oz  actor   \n",
       "1538814                The Muppet Christmas Carol  1992  Frank Oz  actor   \n",
       "1538815                The Muppet Christmas Carol  1992  Frank Oz  actor   \n",
       "1538816                The Muppet Christmas Carol  1992  Frank Oz  actor   \n",
       "1538817                The Muppet Christmas Carol  1992  Frank Oz  actor   \n",
       "1538818                The Muppet Christmas Carol  1992  Frank Oz  actor   \n",
       "1538784                    Muppet Treasure Island  1996  Frank Oz  actor   \n",
       "1538783                    Muppet Treasure Island  1996  Frank Oz  actor   \n",
       "1538785                    Muppet Treasure Island  1996  Frank Oz  actor   \n",
       "1538786                    Muppet Treasure Island  1996  Frank Oz  actor   \n",
       "1538803      The Adventures of Elmo in Grouchland  1999  Frank Oz  actor   \n",
       "1538790                        Muppets from Space  1999  Frank Oz  actor   \n",
       "1538789                        Muppets from Space  1999  Frank Oz  actor   \n",
       "1538788                        Muppets from Space  1999  Frank Oz  actor   \n",
       "1538787                        Muppets from Space  1999  Frank Oz  actor   \n",
       "1538801      The Adventures of Elmo in Grouchland  1999  Frank Oz  actor   \n",
       "1538802      The Adventures of Elmo in Grouchland  1999  Frank Oz  actor   \n",
       "\n",
       "                                                 character     n  \n",
       "1538820                                         Miss Piggy   2.0  \n",
       "1538821                                        Fozzie Bear   2.0  \n",
       "1538822                                             Animal   2.0  \n",
       "1538823                                      Sam the Eagle   2.0  \n",
       "1538824                                   Doc Hopper's Men   2.0  \n",
       "1538825                                       Marvin Suggs   2.0  \n",
       "1538826                           Swedish Chef (assistant)   2.0  \n",
       "1538827                                     Motorcycle Guy   2.0  \n",
       "1538812                                       Swedish Chef   2.0  \n",
       "1538811                                             Gramps   2.0  \n",
       "1538810                                      Sam the Eagle   2.0  \n",
       "1538809                                             Animal   2.0  \n",
       "1538808                                        Fozzie Bear   2.0  \n",
       "1538776                                        Mr. Collins  13.0  \n",
       "1538807                                         Miss Piggy   2.0  \n",
       "1538777                                         Miss Piggy  13.0  \n",
       "1538806                            Chamberlain (performer)   3.0  \n",
       "1538805            Aughra, a Keeper Of Secrets (performer)   3.0  \n",
       "1538834                                      Sam the Eagle   2.0  \n",
       "1538833                     Ocean Breeze Soap Board Member   2.0  \n",
       "1538832                                     Cookie Monster   2.0  \n",
       "1538831                                               Bert   2.0  \n",
       "1538830                                             Animal   2.0  \n",
       "1538829                                             Fozzie   2.0  \n",
       "1538828                                         Miss Piggy   2.0  \n",
       "1538793                                             Grover   3.0  \n",
       "1538792                                               Bert   3.0  \n",
       "1538791                                     Cookie Monster   3.0  \n",
       "1538813                       Miss Piggy as Emily Cratchit   5.0  \n",
       "1538819                                 Vegetable Salesman   5.0  \n",
       "1538814                           Fozzie Bear as Fozziewig   5.0  \n",
       "1538815  Sam the Eagle as Headmaster of Junior High Gra...   5.0  \n",
       "1538816                                             Animal   5.0  \n",
       "1538817                                 George the Janitor   5.0  \n",
       "1538818                          Horse and Carriage Driver   5.0  \n",
       "1538784                                        Fozzie Bear  14.0  \n",
       "1538783                                         Miss Piggy  14.0  \n",
       "1538785                                      Sam the Eagle  14.0  \n",
       "1538786                                             Animal  14.0  \n",
       "1538803                                     Cookie Monster  16.0  \n",
       "1538790                                      Sam the Eagle   7.0  \n",
       "1538789                                             Animal   7.0  \n",
       "1538788                                        Fozzie Bear   7.0  \n",
       "1538787                                         Miss Piggy   7.0  \n",
       "1538801                                               Bert  16.0  \n",
       "1538802                                             Grover  16.0  "
      ],
      "text/html": "<div>\n<style scoped>\n    .dataframe tbody tr th:only-of-type {\n        vertical-align: middle;\n    }\n\n    .dataframe tbody tr th {\n        vertical-align: top;\n    }\n\n    .dataframe thead th {\n        text-align: right;\n    }\n</style>\n<table border=\"1\" class=\"dataframe\">\n  <thead>\n    <tr style=\"text-align: right;\">\n      <th></th>\n      <th>title</th>\n      <th>year</th>\n      <th>name</th>\n      <th>type</th>\n      <th>character</th>\n      <th>n</th>\n    </tr>\n  </thead>\n  <tbody>\n    <tr>\n      <th>1538820</th>\n      <td>The Muppet Movie</td>\n      <td>1979</td>\n      <td>Frank Oz</td>\n      <td>actor</td>\n      <td>Miss Piggy</td>\n      <td>2.0</td>\n    </tr>\n    <tr>\n      <th>1538821</th>\n      <td>The Muppet Movie</td>\n      <td>1979</td>\n      <td>Frank Oz</td>\n      <td>actor</td>\n      <td>Fozzie Bear</td>\n      <td>2.0</td>\n    </tr>\n    <tr>\n      <th>1538822</th>\n      <td>The Muppet Movie</td>\n      <td>1979</td>\n      <td>Frank Oz</td>\n      <td>actor</td>\n      <td>Animal</td>\n      <td>2.0</td>\n    </tr>\n    <tr>\n      <th>1538823</th>\n      <td>The Muppet Movie</td>\n      <td>1979</td>\n      <td>Frank Oz</td>\n      <td>actor</td>\n      <td>Sam the Eagle</td>\n      <td>2.0</td>\n    </tr>\n    <tr>\n      <th>1538824</th>\n      <td>The Muppet Movie</td>\n      <td>1979</td>\n      <td>Frank Oz</td>\n      <td>actor</td>\n      <td>Doc Hopper's Men</td>\n      <td>2.0</td>\n    </tr>\n    <tr>\n      <th>1538825</th>\n      <td>The Muppet Movie</td>\n      <td>1979</td>\n      <td>Frank Oz</td>\n      <td>actor</td>\n      <td>Marvin Suggs</td>\n      <td>2.0</td>\n    </tr>\n    <tr>\n      <th>1538826</th>\n      <td>The Muppet Movie</td>\n      <td>1979</td>\n      <td>Frank Oz</td>\n      <td>actor</td>\n      <td>Swedish Chef (assistant)</td>\n      <td>2.0</td>\n    </tr>\n    <tr>\n      <th>1538827</th>\n      <td>The Muppet Movie</td>\n      <td>1979</td>\n      <td>Frank Oz</td>\n      <td>actor</td>\n      <td>Motorcycle Guy</td>\n      <td>2.0</td>\n    </tr>\n    <tr>\n      <th>1538812</th>\n      <td>The Great Muppet Caper</td>\n      <td>1981</td>\n      <td>Frank Oz</td>\n      <td>actor</td>\n      <td>Swedish Chef</td>\n      <td>2.0</td>\n    </tr>\n    <tr>\n      <th>1538811</th>\n      <td>The Great Muppet Caper</td>\n      <td>1981</td>\n      <td>Frank Oz</td>\n      <td>actor</td>\n      <td>Gramps</td>\n      <td>2.0</td>\n    </tr>\n    <tr>\n      <th>1538810</th>\n      <td>The Great Muppet Caper</td>\n      <td>1981</td>\n      <td>Frank Oz</td>\n      <td>actor</td>\n      <td>Sam the Eagle</td>\n      <td>2.0</td>\n    </tr>\n    <tr>\n      <th>1538809</th>\n      <td>The Great Muppet Caper</td>\n      <td>1981</td>\n      <td>Frank Oz</td>\n      <td>actor</td>\n      <td>Animal</td>\n      <td>2.0</td>\n    </tr>\n    <tr>\n      <th>1538808</th>\n      <td>The Great Muppet Caper</td>\n      <td>1981</td>\n      <td>Frank Oz</td>\n      <td>actor</td>\n      <td>Fozzie Bear</td>\n      <td>2.0</td>\n    </tr>\n    <tr>\n      <th>1538776</th>\n      <td>An American Werewolf in London</td>\n      <td>1981</td>\n      <td>Frank Oz</td>\n      <td>actor</td>\n      <td>Mr. Collins</td>\n      <td>13.0</td>\n    </tr>\n    <tr>\n      <th>1538807</th>\n      <td>The Great Muppet Caper</td>\n      <td>1981</td>\n      <td>Frank Oz</td>\n      <td>actor</td>\n      <td>Miss Piggy</td>\n      <td>2.0</td>\n    </tr>\n    <tr>\n      <th>1538777</th>\n      <td>An American Werewolf in London</td>\n      <td>1981</td>\n      <td>Frank Oz</td>\n      <td>actor</td>\n      <td>Miss Piggy</td>\n      <td>13.0</td>\n    </tr>\n    <tr>\n      <th>1538806</th>\n      <td>The Dark Crystal</td>\n      <td>1982</td>\n      <td>Frank Oz</td>\n      <td>actor</td>\n      <td>Chamberlain (performer)</td>\n      <td>3.0</td>\n    </tr>\n    <tr>\n      <th>1538805</th>\n      <td>The Dark Crystal</td>\n      <td>1982</td>\n      <td>Frank Oz</td>\n      <td>actor</td>\n      <td>Aughra, a Keeper Of Secrets (performer)</td>\n      <td>3.0</td>\n    </tr>\n    <tr>\n      <th>1538834</th>\n      <td>The Muppets Take Manhattan</td>\n      <td>1984</td>\n      <td>Frank Oz</td>\n      <td>actor</td>\n      <td>Sam the Eagle</td>\n      <td>2.0</td>\n    </tr>\n    <tr>\n      <th>1538833</th>\n      <td>The Muppets Take Manhattan</td>\n      <td>1984</td>\n      <td>Frank Oz</td>\n      <td>actor</td>\n      <td>Ocean Breeze Soap Board Member</td>\n      <td>2.0</td>\n    </tr>\n    <tr>\n      <th>1538832</th>\n      <td>The Muppets Take Manhattan</td>\n      <td>1984</td>\n      <td>Frank Oz</td>\n      <td>actor</td>\n      <td>Cookie Monster</td>\n      <td>2.0</td>\n    </tr>\n    <tr>\n      <th>1538831</th>\n      <td>The Muppets Take Manhattan</td>\n      <td>1984</td>\n      <td>Frank Oz</td>\n      <td>actor</td>\n      <td>Bert</td>\n      <td>2.0</td>\n    </tr>\n    <tr>\n      <th>1538830</th>\n      <td>The Muppets Take Manhattan</td>\n      <td>1984</td>\n      <td>Frank Oz</td>\n      <td>actor</td>\n      <td>Animal</td>\n      <td>2.0</td>\n    </tr>\n    <tr>\n      <th>1538829</th>\n      <td>The Muppets Take Manhattan</td>\n      <td>1984</td>\n      <td>Frank Oz</td>\n      <td>actor</td>\n      <td>Fozzie</td>\n      <td>2.0</td>\n    </tr>\n    <tr>\n      <th>1538828</th>\n      <td>The Muppets Take Manhattan</td>\n      <td>1984</td>\n      <td>Frank Oz</td>\n      <td>actor</td>\n      <td>Miss Piggy</td>\n      <td>2.0</td>\n    </tr>\n    <tr>\n      <th>1538793</th>\n      <td>Sesame Street Presents: Follow that Bird</td>\n      <td>1985</td>\n      <td>Frank Oz</td>\n      <td>actor</td>\n      <td>Grover</td>\n      <td>3.0</td>\n    </tr>\n    <tr>\n      <th>1538792</th>\n      <td>Sesame Street Presents: Follow that Bird</td>\n      <td>1985</td>\n      <td>Frank Oz</td>\n      <td>actor</td>\n      <td>Bert</td>\n      <td>3.0</td>\n    </tr>\n    <tr>\n      <th>1538791</th>\n      <td>Sesame Street Presents: Follow that Bird</td>\n      <td>1985</td>\n      <td>Frank Oz</td>\n      <td>actor</td>\n      <td>Cookie Monster</td>\n      <td>3.0</td>\n    </tr>\n    <tr>\n      <th>1538813</th>\n      <td>The Muppet Christmas Carol</td>\n      <td>1992</td>\n      <td>Frank Oz</td>\n      <td>actor</td>\n      <td>Miss Piggy as Emily Cratchit</td>\n      <td>5.0</td>\n    </tr>\n    <tr>\n      <th>1538819</th>\n      <td>The Muppet Christmas Carol</td>\n      <td>1992</td>\n      <td>Frank Oz</td>\n      <td>actor</td>\n      <td>Vegetable Salesman</td>\n      <td>5.0</td>\n    </tr>\n    <tr>\n      <th>1538814</th>\n      <td>The Muppet Christmas Carol</td>\n      <td>1992</td>\n      <td>Frank Oz</td>\n      <td>actor</td>\n      <td>Fozzie Bear as Fozziewig</td>\n      <td>5.0</td>\n    </tr>\n    <tr>\n      <th>1538815</th>\n      <td>The Muppet Christmas Carol</td>\n      <td>1992</td>\n      <td>Frank Oz</td>\n      <td>actor</td>\n      <td>Sam the Eagle as Headmaster of Junior High Gra...</td>\n      <td>5.0</td>\n    </tr>\n    <tr>\n      <th>1538816</th>\n      <td>The Muppet Christmas Carol</td>\n      <td>1992</td>\n      <td>Frank Oz</td>\n      <td>actor</td>\n      <td>Animal</td>\n      <td>5.0</td>\n    </tr>\n    <tr>\n      <th>1538817</th>\n      <td>The Muppet Christmas Carol</td>\n      <td>1992</td>\n      <td>Frank Oz</td>\n      <td>actor</td>\n      <td>George the Janitor</td>\n      <td>5.0</td>\n    </tr>\n    <tr>\n      <th>1538818</th>\n      <td>The Muppet Christmas Carol</td>\n      <td>1992</td>\n      <td>Frank Oz</td>\n      <td>actor</td>\n      <td>Horse and Carriage Driver</td>\n      <td>5.0</td>\n    </tr>\n    <tr>\n      <th>1538784</th>\n      <td>Muppet Treasure Island</td>\n      <td>1996</td>\n      <td>Frank Oz</td>\n      <td>actor</td>\n      <td>Fozzie Bear</td>\n      <td>14.0</td>\n    </tr>\n    <tr>\n      <th>1538783</th>\n      <td>Muppet Treasure Island</td>\n      <td>1996</td>\n      <td>Frank Oz</td>\n      <td>actor</td>\n      <td>Miss Piggy</td>\n      <td>14.0</td>\n    </tr>\n    <tr>\n      <th>1538785</th>\n      <td>Muppet Treasure Island</td>\n      <td>1996</td>\n      <td>Frank Oz</td>\n      <td>actor</td>\n      <td>Sam the Eagle</td>\n      <td>14.0</td>\n    </tr>\n    <tr>\n      <th>1538786</th>\n      <td>Muppet Treasure Island</td>\n      <td>1996</td>\n      <td>Frank Oz</td>\n      <td>actor</td>\n      <td>Animal</td>\n      <td>14.0</td>\n    </tr>\n    <tr>\n      <th>1538803</th>\n      <td>The Adventures of Elmo in Grouchland</td>\n      <td>1999</td>\n      <td>Frank Oz</td>\n      <td>actor</td>\n      <td>Cookie Monster</td>\n      <td>16.0</td>\n    </tr>\n    <tr>\n      <th>1538790</th>\n      <td>Muppets from Space</td>\n      <td>1999</td>\n      <td>Frank Oz</td>\n      <td>actor</td>\n      <td>Sam the Eagle</td>\n      <td>7.0</td>\n    </tr>\n    <tr>\n      <th>1538789</th>\n      <td>Muppets from Space</td>\n      <td>1999</td>\n      <td>Frank Oz</td>\n      <td>actor</td>\n      <td>Animal</td>\n      <td>7.0</td>\n    </tr>\n    <tr>\n      <th>1538788</th>\n      <td>Muppets from Space</td>\n      <td>1999</td>\n      <td>Frank Oz</td>\n      <td>actor</td>\n      <td>Fozzie Bear</td>\n      <td>7.0</td>\n    </tr>\n    <tr>\n      <th>1538787</th>\n      <td>Muppets from Space</td>\n      <td>1999</td>\n      <td>Frank Oz</td>\n      <td>actor</td>\n      <td>Miss Piggy</td>\n      <td>7.0</td>\n    </tr>\n    <tr>\n      <th>1538801</th>\n      <td>The Adventures of Elmo in Grouchland</td>\n      <td>1999</td>\n      <td>Frank Oz</td>\n      <td>actor</td>\n      <td>Bert</td>\n      <td>16.0</td>\n    </tr>\n    <tr>\n      <th>1538802</th>\n      <td>The Adventures of Elmo in Grouchland</td>\n      <td>1999</td>\n      <td>Frank Oz</td>\n      <td>actor</td>\n      <td>Grover</td>\n      <td>16.0</td>\n    </tr>\n  </tbody>\n</table>\n</div>"
     },
     "metadata": {},
     "execution_count": 13
    }
   ],
   "source": [
    "frank_film=cast[cast['name']=='Frank Oz']# films with Frank Oz\n",
    "frank_vc=frank_film['title'].value_counts()# appearances by title\n",
    "answer=pd.DataFrame()\n",
    "for count in frank_vc.keys():\n",
    "    if frank_vc[count]!=1:# more than 1 appearance\n",
    "        answer=answer.append(frank_film[frank_film.title==count])\n",
    "answer.sort_values('year')"
   ]
  },
  {
   "cell_type": "code",
   "execution_count": null,
   "metadata": {},
   "outputs": [],
   "source": []
  }
 ],
 "metadata": {
  "kernelspec": {
   "display_name": "Python 3",
   "language": "python",
   "name": "python3"
  },
  "language_info": {
   "codemirror_mode": {
    "name": "ipython",
    "version": 3
   },
   "file_extension": ".py",
   "mimetype": "text/x-python",
   "name": "python",
   "nbconvert_exporter": "python",
   "pygments_lexer": "ipython3",
   "version": "3.8.3-final"
  }
 },
 "nbformat": 4,
 "nbformat_minor": 4
}